{
 "cells": [
  {
   "cell_type": "markdown",
   "id": "representative-structure",
   "metadata": {},
   "source": [
    "# Modeling using the NASA Land Information System\n",
    "\n",
    "### Learning Objectives\n",
    "*45 minute tutorial on interacting with LIS model output*\n",
    "- understand the structure of LIS model output (netCDF files)\n",
    "- open, interact, and visualize LIS output\n",
    "- compeare LIS simulations to raster and point datasets\n",
    "\n",
    "<img src=\"./figs/LIS_schematic.png\" width=\"700\">\n",
    "\n",
    "Figure 1. Diagram of components of NASA LIS framework.\n",
    "[Source](https://lis.gsfc.nasa.gov/software/lis/)"
   ]
  },
  {
   "cell_type": "markdown",
   "id": "peripheral-julian",
   "metadata": {},
   "source": [
    "# About LIS\n",
    "The NASA Land Information System (LIS) is a land surface modeling framework designed to be flexible to meet user needs. LIS offers choice of land surface model, meteorological forcing, assimilation method, hydrological routing, among other options.\n",
    "\n",
    "Current efforts are implementing snow modules, including SnowModel and Crocus, into the LIS framework. These models, when run at the scale of ~100 m, will allow for simulation of wind redistribution, snow grain size, and other important processes for more accurate snow modeling.\n"
   ]
  },
  {
   "cell_type": "markdown",
   "id": "numerical-browse",
   "metadata": {},
   "source": [
    "# Today's exercise\n",
    "Today we will walk through opening and visualizing LIS model output. We will also compare LIS output, spatially and temporally, to two datasets to demonstrate both a raster and a point comparison. We end with exercises for evaluating LIS against data collected during the 2017 SnowEx field campaign in Colorado.\n",
    "\n",
    "## LIS simulations\n",
    "The LIS simulations we will work with today are centered on the Mississippi River Basin and are produced at 10 km spatial resolution. We use the NoahMP 4.0.1 land surface model and meteorological forcing data are from MERRA2.\n",
    "\n",
    "These options - *spatial resolution, land surface model, forcing dataset* - can be changed in LIS when you design your simulation. \n",
    "\n",
    "Today we will look at output running from October 2016 through September 2020, or water years 2017 through 2020.\n",
    "\n",
    "## Comparison datasets\n",
    "In this tutorial, we compare the gridded LIS output to two types of data: raster and point data. For the raster comparison, we will use the **SNODAS** dataset. For the point comparison, we will use **SNOTEL** station data.\n",
    "\n",
    "### SNODAS\n",
    "SNODAS (or the Snow Data Assimilation System) is a gridded dataset that combined ground observations with a model to estimate daily snow depth and SWE across the contiguous United States at approximately 1 km spatial resolution. SNODAS is produced by NOAA and is available for download at the [NSIDC.](https://nsidc.org/data/g02158)\n",
    "\n",
    "### SNOTEL\n",
    "The SNOTEL (or Snow Telemetry) network includes over 800 automatic stations across the western US, including Alaska. SNOTEL stations report SWE, snow depth, and other meteorological variables. SNOTEL is run by the USDA and is available for download at the [NRCS website.](https://www.wcc.nrcs.usda.gov/snow/)\n"
   ]
  },
  {
   "cell_type": "markdown",
   "id": "engaging-decade",
   "metadata": {},
   "source": [
    "# See also\n",
    "We point users interested in running LIS and exploring built-in subsystems like data assimilation and optimization-uncertainty estimation to the following references:\n",
    "- [LIS website](https://lis.gsfc.nasa.gov/)\n",
    "- [LIS code on GitHub](https://github.com/NASA-LIS/LISF)\n",
    "- [How to guide for LIS/GitHub](https://github.com/NASA-LIS/LISF/blob/master/docs/working_with_github/working_with_github.adoc)\n",
    "- [LIS test cases for a tutorial walk through](https://lis.gsfc.nasa.gov/tests/lis)\n",
    "\n",
    "<img src=\"./figs/LIS_logo-FINAL.png\" width=\"300\">"
   ]
  },
  {
   "cell_type": "markdown",
   "id": "naughty-consistency",
   "metadata": {},
   "source": [
    "# Further Exercises"
   ]
  },
  {
   "cell_type": "markdown",
   "id": "broke-equality",
   "metadata": {},
   "source": [
    "## References\n",
    "Kumar, S.V., C.D. Peters-Lidard, Y. Tian, P.R. Houser, J. Geiger, S. Olden, L. Lighty, J.L. Eastman, B. Doty, P. Dirmeyer, J. Adams, K. Mitchell, E. F. Wood, and J. Sheffield, 2006: Land Information System - An interoperable framework for high resolution land surface modeling. Environ. Modeling & Software, 21, 1402-1415, doi:10.1016/j.envsoft.2005.07.004\n",
    "\n",
    "Peters-Lidard, C.D., P.R. Houser, Y. Tian, S.V. Kumar, J. Geiger, S. Olden, L. Lighty, B. Doty, P. Dirmeyer, J. Adams, K. Mitchell, E.F. Wood, and J. Sheffield, 2007: High-performance Earth system modeling with NASA/GSFC's Land Information System. Innovations in Systems and Software Engineering, 3(3), 157-165, doi:10.1007/s11334-007-0028-x\n"
   ]
  }
 ],
 "metadata": {
  "kernelspec": {
   "display_name": "Python 3",
   "language": "python",
   "name": "python3"
  },
  "language_info": {
   "codemirror_mode": {
    "name": "ipython",
    "version": 3
   },
   "file_extension": ".py",
   "mimetype": "text/x-python",
   "name": "python",
   "nbconvert_exporter": "python",
   "pygments_lexer": "ipython3",
   "version": "3.8.8"
  }
 },
 "nbformat": 4,
 "nbformat_minor": 5
}
