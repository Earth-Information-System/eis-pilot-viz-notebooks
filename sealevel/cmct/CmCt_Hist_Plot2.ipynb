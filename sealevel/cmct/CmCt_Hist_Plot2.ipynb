{
 "cells": [
  {
   "cell_type": "markdown",
   "metadata": {
    "extensions": {
     "jupyter_dashboards": {
      "version": 1,
      "views": {
       "grid_default": {
        "col": 0,
        "height": 2,
        "hidden": false,
        "row": 0,
        "width": 7
       },
       "report_default": {}
      }
     }
    }
   },
   "source": [
    "# CmCt Histogram Tool"
   ]
  },
  {
   "cell_type": "markdown",
   "metadata": {
    "extensions": {
     "jupyter_dashboards": {
      "version": 1,
      "views": {
       "grid_default": {
        "col": 0,
        "height": 16,
        "hidden": false,
        "row": 2,
        "width": 12
       },
       "report_default": {}
      }
     }
    }
   },
   "source": [
    "This Jupyter notebook can be used to plot the comparison results from the Cryosphere model Comparison tool (CmCt, https://ggsghpcc.sgt-inc.com/cmct/) directly in this notebook and/or saving the plot on the user's local machine.\n",
    "\n",
    "The Cryosphere model Comparison tool (CmCt) is a web-based ice sheet model validation tool that has been developed by NASA to facilitate direct comparison between satellite observational data and various ice sheet models. The CmCt allows the user to take advantage of several decades worth of satellite-based observations from Greenland and Antarctica. The CmCt is used to compare ice sheet models provided by the user with remotely sensed satellite ICESat (Ice, Cloud, and land Elevation Satellite) laser altimetry, ERS-1, ERS-2, and Envisat radar altimetry data, and GRACE (Gravity Recovery and Climate Experiment) satellite data. For the comparison with GRACE data, the uploaded ice sheet model can also be compared with different solutions: GRACE Mascon or Spherical Harmonics. \n",
    "\n",
    "The user can upload the histogram text file that was created by the CmCt. After upload these model files will be in a folder located within the user's home data directory. The user can plot the data using the plot button which appears after a file has been uploaded. The script will create a cummulative distribution function (CDF) and a probablility density function (PDF) side by side for quick assessment of the comparison results.\n",
    "\n",
    "After running the plotting cells, the histograms can be viewed within the notebook. The user also has an option to save the plot. The plot will be saved in the user's home data directory on the gateway. The user can also choose to download the result by clicking on the download botton. The plot will appear in a new window and by right clicking the image it can be downloaded using several different options.\n",
    "\n",
    "### To run the tool:\n",
    "\n",
    "#### Select Kernel: Restart & Run All from the top menu.\n",
    "#### Once all cells have refreshed, click the Hide Code Cells toggle button for easier navigation."
   ]
  },
  {
   "cell_type": "code",
   "execution_count": 1,
   "metadata": {
    "extensions": {
     "jupyter_dashboards": {
      "version": 1,
      "views": {
       "grid_default": {
        "hidden": true
       },
       "report_default": {}
      }
     }
    }
   },
   "outputs": [
    {
     "data": {
      "application/javascript": [
       "\n",
       "requirejs.undef('filepicker');\n",
       "\n",
       "define('filepicker', [\"@jupyter-widgets/base\"], function(widgets) {\n",
       "\n",
       "    var FilePickerView = widgets.DOMWidgetView.extend({\n",
       "        render: function(){\n",
       "            this.file = document.createElement('input');\n",
       "            this.file.setAttribute('class', 'fileinput');\n",
       "            this.file.setAttribute('id', this.cid);\n",
       "            this.file.multiple = this.model.get('multiple');\n",
       "            this.file.required = true;\n",
       "            this.file.setAttribute('type', 'file');\n",
       "            this.file.setAttribute('style', 'display:none');\n",
       "\n",
       "            this.label = document.createElement('label');\n",
       "            this.label.setAttribute('for', this.cid);\n",
       "            this.label.setAttribute('style', 'border: 1px solid; border-radius: 5px; display: inline-block; padding: 6px 12px');\n",
       "\n",
       "            this.icon = document.createElement('i');\n",
       "            this.icon.setAttribute(\"class\", \"fa fa-upload\");\n",
       "\n",
       "            if (this.file.multiple) {\n",
       "                this.labelstr = \"  Upload Files\";\n",
       "            } else {\n",
       "                this.labelstr = \"  Upload File\";\n",
       "            }\n",
       "            this.label.innerHTML = this.labelstr;\n",
       "            this.label.prepend(this.icon);\n",
       "            this.el.appendChild(this.label);\n",
       "            this.el.appendChild(this.file);\n",
       "            this.listenTo(this.model, 'change:send', this._send_changed, this);\n",
       "            this.listenTo(this.model, 'change:reset', this._reset, this);\n",
       "            this.update();\n",
       "        },\n",
       "\n",
       "        events: {\n",
       "            // List of events and their handlers.\n",
       "            'change': 'handle_file_change'\n",
       "        },\n",
       "\n",
       "        _reset: function() {\n",
       "            this.label.innerHTML = this.labelstr;\n",
       "            this.label.prepend(this.icon);\n",
       "            this.file.removeAttribute(\"disabled\");\n",
       "        },\n",
       "\n",
       "        _send_changed: function() {\n",
       "            var that = this;\n",
       "            var send = this.model.get('send');\n",
       "            var fnum = send[0];\n",
       "            var offset = send[1];\n",
       "            var chunk_size=64*1024;\n",
       "            var reader;\n",
       "\n",
       "            if (fnum == -1) {\n",
       "                // ignore\n",
       "                return\n",
       "            }\n",
       "\n",
       "            if (offset == 0) {\n",
       "                this.model.set('sent', -1);\n",
       "                this.touch();\n",
       "            }\n",
       "\n",
       "            // console.log('send: ' + fnum + ' ' + offset);\n",
       "            function tob64( buffer ) {\n",
       "                var binary = '';\n",
       "                var bytes = new Uint8Array( buffer );\n",
       "                var len = bytes.byteLength;\n",
       "                for (var i = 0; i < len; i++) {\n",
       "                    binary += String.fromCharCode( bytes[ i ] );\n",
       "                }\n",
       "                return window.btoa( binary );\n",
       "            }\n",
       "\n",
       "            var reader_done = function (event) {\n",
       "                // chunk is finished.  Send to python\n",
       "                if (event.target.error == null) {\n",
       "                    var b64 = tob64(event.target.result);\n",
       "                    that.model.set('data', b64);\n",
       "                    that.model.set('sent', offset);\n",
       "                    that.touch();\n",
       "                } else {\n",
       "                    console.log(\"Read error: \" + event.target.error);\n",
       "                    that.model.set('data', '');\n",
       "                    that.model.set('sent', -2);\n",
       "                    that.touch();\n",
       "                }\n",
       "                that.touch();\n",
       "            }\n",
       "        \n",
       "            var chunk_reader = function (_offset, _f) {\n",
       "                // console.log('CR' + ' ' + _f + ' ' + _offset);\n",
       "                reader = new FileReader();\n",
       "                var chunk = _f.slice(_offset, chunk_size + _offset);            \n",
       "                reader.readAsArrayBuffer(chunk);\n",
       "                reader.onload = reader_done;\n",
       "            }\n",
       "    \n",
       "            // OK. request next chunk\n",
       "            chunk_reader(offset, this.files[fnum]);\n",
       "        },\n",
       "        \n",
       "        \n",
       "        handle_file_change: function(evt) {\n",
       "\n",
       "            var _files = evt.target.files;\n",
       "            var filenames = [];\n",
       "            var file_readers = [];\n",
       "            this.files = [];\n",
       "\n",
       "            for (var i = 0; i < _files.length; i++) {\n",
       "                var file = _files[i];\n",
       "                console.log(\"Filename: \" + file.name);\n",
       "                console.log(\"Type: \" + file.type);\n",
       "                console.log(\"Size: \" + file.size + \" bytes\");\n",
       "                this.files.push(file);\n",
       "                filenames.push([file.name, file.size]);\n",
       "            };\n",
       "            \n",
       "            // Set the filenames of the files.\n",
       "            this.model.set('filenames', filenames);\n",
       "            this.touch();\n",
       "\n",
       "            // update the label\n",
       "            if (filenames.length == 0) {\n",
       "                this.label.innerHTML = this.labelstr;\n",
       "                this.file.removeAttribute(\"disabled\");\n",
       "            } else if (filenames.length == 1) {\n",
       "                this.label.innerHTML = \"  \" + filenames[0][0];\n",
       "                this.file.setAttribute('disabled', 'true');\n",
       "            } else {\n",
       "                this.label.innerHTML = \"  \" + filenames.length + \" files selected\";\n",
       "                this.file.setAttribute('disabled', 'true');           \n",
       "            };\n",
       "            this.label.prepend(this.icon);\n",
       "        },\n",
       "    });\n",
       "\n",
       "    // Register the FilePickerView with the widget manager.\n",
       "    return {\n",
       "        FilePickerView: FilePickerView\n",
       "    };\n",
       "});\n"
      ],
      "text/plain": [
       "<IPython.core.display.Javascript object>"
      ]
     },
     "metadata": {},
     "output_type": "display_data"
    }
   ],
   "source": [
    "#Importing Python Libraries\n",
    "import hublib.use\n",
    "%use anaconda-6\n",
    "\n",
    "import os,sys\n",
    "# print ('sys.executable: ', sys.executable)\n",
    "\n",
    "# note: suppress numpy.dtype size changed warnings\n",
    "import warnings\n",
    "warnings.filterwarnings(\"ignore\", message=\"numpy.dtype size changed\")\n",
    "\n",
    "import numpy as np\n",
    "import matplotlib\n",
    "import matplotlib.pyplot as plt\n",
    "import glob as glob\n",
    "from matplotlib import rc\n",
    "rc('mathtext', default='regular')\n",
    "\n",
    "sys.path.insert(0, os.path.abspath('..'))\n",
    "from hublib.ui import FileUpload, Download\n",
    "\n",
    "import ipywidgets as widgets\n",
    "from IPython.display import display,clear_output\n",
    "\n",
    "import gc\n",
    "\n",
    "import requests\n",
    "import atexit"
   ]
  },
  {
   "cell_type": "code",
   "execution_count": 2,
   "metadata": {},
   "outputs": [
    {
     "data": {
      "application/vnd.jupyter.widget-view+json": {
       "model_id": "7eddde360f204c04ad3d2d12c973421f",
       "version_major": 2,
       "version_minor": 0
      },
      "text/plain": [
       "Button(button_style='info', description='Run All Cells', style=ButtonStyle())"
      ]
     },
     "metadata": {},
     "output_type": "display_data"
    }
   ],
   "source": [
    "runButton = hublib.ui.RunAllButton(style='info')\n",
    "display(runButton)"
   ]
  },
  {
   "cell_type": "code",
   "execution_count": 3,
   "metadata": {
    "extensions": {
     "jupyter_dashboards": {
      "version": 1,
      "views": {
       "grid_default": {
        "hidden": true
       },
       "report_default": {}
      }
     }
    }
   },
   "outputs": [
    {
     "data": {
      "application/vnd.jupyter.widget-view+json": {
       "model_id": "3ba6e44ed39d4835872850005196eba3",
       "version_major": 2,
       "version_minor": 0
      },
      "text/plain": [
       "Button(button_style='success', description='Hide Code Cells', style=ButtonStyle())"
      ]
     },
     "metadata": {},
     "output_type": "display_data"
    }
   ],
   "source": [
    "hideCodeButton = hublib.ui.HideCodeButton(style='success')\n",
    "display(hideCodeButton)"
   ]
  },
  {
   "cell_type": "code",
   "execution_count": 4,
   "metadata": {
    "extensions": {
     "jupyter_dashboards": {
      "version": 1,
      "views": {
       "grid_default": {
        "hidden": true
       },
       "report_default": {}
      }
     }
    }
   },
   "outputs": [],
   "source": [
    "# create histogram plot from input .txt file\n",
    "def create_histogram(file_name):\n",
    "    output_widget.clear_output()\n",
    "    update_progress(0)\n",
    "    \n",
    "    plt.close('all')\n",
    "    #set fontsize\n",
    "    matplotlib.rcParams.update({'font.size': 10})\n",
    "\n",
    "    #set up variable names\n",
    "    varnames   = ('bin_low', 'bin_high','nbin','PDF','CDF')\n",
    "\n",
    "    #set up variable formats\n",
    "    varformats = ('f4', 'f4','i2','f8','f8')\n",
    "\n",
    "    dtype = {'names': varnames, 'formats': varformats}\n",
    "\n",
    "    update_progress(0.1)\n",
    "\n",
    "    fbase = os.path.basename(file_name)\n",
    "\n",
    "    #use built in numpy function to read in data, and ignore the header\n",
    "    #this will return a numpy array of tuples\n",
    "    try:\n",
    "        data  = np.loadtxt(file_name,comments=\"#\",dtype=dtype)\n",
    "    except:\n",
    "        output_widget.clear_output()\n",
    "        with output_widget:\n",
    "            print('ERROR: Program could not decode file. May be incorrect file type.')\n",
    "        return 'stopped'\n",
    "\n",
    "    #to separate the data into separate numpy arrays\n",
    "    try:\n",
    "        bin_low    = data[\"bin_low\"]\n",
    "        bin_high   = data[\"bin_high\"]\n",
    "        nbin       = data[\"nbin\"]\n",
    "        PDF        = data[\"PDF\"]\n",
    "        CDF        = data[\"CDF\"]\n",
    "    except:\n",
    "        with output_widget:\n",
    "            print('ERROR: file is missing crucial data. May be incorrect file type.')\n",
    "        return 'stopped'\n",
    "    \n",
    "    update_progress(0.2)\n",
    "    \n",
    "    numrecs = len(nbin)\n",
    "\n",
    "    plt.ion()\n",
    "    \n",
    "    fig = plt.figure(figsize=(16,10))\n",
    "\n",
    "    #----------------------------------------------------------------------\n",
    "    #First plot will be histogram with CDF\n",
    "    #----------------------------------------------------------------------\n",
    "    update_progress(0.3)\n",
    "    \n",
    "    ax = plt.subplot(121)\n",
    "\n",
    "    width = bin_high - bin_low\n",
    "    p1 = plt.bar(bin_low,nbin,width,color=\"blue\")\n",
    "    \n",
    "    plt.ylabel('Counts',rotation=90)\n",
    "    plt.xlabel('Bins (m)')\n",
    "    \n",
    "    ax.set_ylim(ymin=0)\n",
    "    xlabels1 = ax.get_xticklabels()\n",
    "    ylabels1 = ax.get_yticklabels()\n",
    "\n",
    "    plt.setp(xlabels1, rotation=90)\n",
    "\n",
    "    update_progress(0.4)\n",
    "    \n",
    "    #plot the CDF on the RHS axis (it runs from 0-1)\n",
    "    ax2 = plt.twinx()\n",
    "    ax2.plot(bin_low,CDF,color=\"red\",label='CDF')\n",
    "    ax2.set_ylim(ymin=0)\n",
    "\n",
    "    update_progress(0.5)\n",
    "    \n",
    "    #plot the y title 90 degrees.\n",
    "    plt.ylabel('Probablility',rotation=90)\n",
    "\n",
    "    plt.legend()\n",
    "    plt.title('Cumulative Distribution Function (CDF)',fontsize=15)\n",
    "    \n",
    "    #----------------------------------------------------------------------\n",
    "    #Second plot will be histogram with PDF\n",
    "    #----------------------------------------------------------------------\n",
    "    update_progress(0.6)\n",
    "    \n",
    "    ax3 = plt.subplot(122)\n",
    "\n",
    "    p2 = plt.bar(bin_low,nbin,width,color=\"blue\")\n",
    "    plt.ylabel('Counts',rotation=90)\n",
    "    plt.xlabel('Bins (m)')\n",
    "\n",
    "    ax3.set_ylim(ymin=0)\n",
    "    xlabels2 = ax3.get_xticklabels()\n",
    "    ylabels2 = ax3.get_yticklabels()\n",
    "    plt.setp(xlabels2, rotation=90)\n",
    "\n",
    "    update_progress(0.7)\n",
    "    \n",
    "    #plot the PDF on the RHS axis \n",
    "    ax4 = plt.twinx()\n",
    "    ax4.plot(bin_low,PDF,color=\"red\",label='PDF')\n",
    "    ax4.set_ylim(ymin=0)\n",
    "\n",
    "    update_progress(0.8)\n",
    "    \n",
    "    #plot the y title 90 degrees.\n",
    "    plt.ylabel('Probability Density',rotation=90)\n",
    "\n",
    "    plt.legend()\n",
    "    plt.title('Probability Density Function (PDF)',fontsize=15)\n",
    "\n",
    "    plt.subplots_adjust(wspace=0.5)\n",
    "    \n",
    "    axes = plt.gca()\n",
    "    plt.tight_layout(rect=[0, 0.03, 1, 0.95])\n",
    "\n",
    "    plt.suptitle('CmCt Comparison Histogram Plots', fontsize=25)\n",
    "    plt.subplots_adjust(top=0.83)\n",
    "\n",
    "    plt.savefig(\"CmCt_Histogram.png\",dpi=100)\n",
    "    \n",
    "    update_progress(0.9)\n",
    "    output_widget.clear_output(wait = True)\n",
    "    with output_widget:\n",
    "        plt.show()"
   ]
  },
  {
   "cell_type": "code",
   "execution_count": 5,
   "metadata": {
    "extensions": {
     "jupyter_dashboards": {
      "version": 1,
      "views": {
       "grid_default": {
        "hidden": true
       },
       "report_default": {}
      }
     }
    }
   },
   "outputs": [],
   "source": [
    "#def default_cb(b):\n",
    "#   example_plot.disabled = True\n",
    "#   create_histogram(file_name)\n",
    "\n",
    "# create histogram using uploaded data\n",
    "def uploaded_cb(b):\n",
    "    uploaded_data.disabled = True\n",
    "    f.visible = False\n",
    "    download_button(False)\n",
    "    status = create_histogram(file_name)\n",
    "    if status!='stopped':\n",
    "        download_button(True)\n",
    "    else:\n",
    "        uploaded_data.disabled = True\n",
    "    f.visible = True\n",
    "    #example_plot.disabled = False\n",
    "    \n",
    "# Called when all files finish uploading\n",
    "def done_cb(w, name):\n",
    "    output_widget.clear_output()\n",
    "    with output_widget:\n",
    "        print(\"%s uploaded\" % name[0])\n",
    "    global file_name\n",
    "    file_name = name[0]\n",
    "    uploaded_data.layout.visibility = 'visible'\n",
    "    uploaded_data.disabled = False\n",
    "    # reset clears and re-enables the widget for more uploads\n",
    "    w.reset()\n",
    "\n",
    "# download histogram output plot    \n",
    "def download_button(active):\n",
    "    if active:\n",
    "        d1 = Download(filename='CmCt_Histogram.png',label='Download Plot', style='success', icon='fa-arrow-circle-down')\n",
    "        with button_output_widget:\n",
    "            display(d1)\n",
    "    else:\n",
    "        button_output_widget.clear_output()\n",
    "    \n",
    "# update upload or plotting progress bar\n",
    "def update_progress(progress):\n",
    "    title = 'Plotting Data'\n",
    "    bar_length = 20\n",
    "    block = int(20.0*progress)\n",
    "    text = title+\" [{0}] {1:.1f}%\".format( \"#\" * block + \"-\" * (bar_length - block), progress * 100)\n",
    "    output_widget.clear_output(wait = True)\n",
    "    with output_widget:\n",
    "        print(text)    "
   ]
  },
  {
   "cell_type": "code",
   "execution_count": 7,
   "metadata": {
    "extensions": {
     "jupyter_dashboards": {
      "version": 1,
      "views": {
       "grid_default": {
        "col": 0,
        "height": 2,
        "hidden": false,
        "row": 48,
        "width": 1
       },
       "report_default": {}
      }
     }
    }
   },
   "outputs": [],
   "source": [
    "#CMCT File Upload\n",
    "#run the cell below and upload a file\n",
    "# todo: standardize input file paths\n",
    "\n",
    "#example_data = widgets.Button(\n",
    "#    description = 'Use Example Data',\n",
    "#    button_style = 'info')\n",
    "#example_data.on_click(default_cb)\n",
    "\n",
    "# Plot button for uploaded data\n",
    "uploaded_data = widgets.Button(\n",
    "    description = 'Plot Data',\n",
    "    button_style = 'info',\n",
    "    layout = widgets.Layout(visibility = 'hidden'))\n",
    "uploaded_data.on_click(uploaded_cb)\n",
    "\n",
    "output_widget = widgets.Output()\n",
    "button_output_widget = widgets.Output()\n",
    "\n",
    "#example_plot = widgets.Button(description = 'Example Plot',button_style = 'info')\n",
    "#example_plot.on_click(default_cb)\n",
    "\n",
    "# Upload button for input data\n",
    "global upload_directory\n",
    "upload_directory = 'data'\n",
    "f = FileUpload('',\n",
    "    'Please Upload Your File',\n",
    "    dir=upload_directory,\n",
    "    cb=done_cb,\n",
    "    maxsize='50M',\n",
    "    width = '350px')\n",
    "#dir(f)"
   ]
  },
  {
   "cell_type": "code",
   "execution_count": 8,
   "metadata": {
    "scrolled": true
   },
   "outputs": [],
   "source": [
    "# prepare example plot\n",
    "file_name = 'CMCT_Example.histogram.txt'\n",
    "create_histogram(file_name)"
   ]
  },
  {
   "cell_type": "code",
   "execution_count": 9,
   "metadata": {
    "extensions": {
     "jupyter_dashboards": {
      "version": 1,
      "views": {
       "grid_default": {
        "col": 0,
        "height": 26,
        "hidden": false,
        "row": 22,
        "width": 12
       },
       "report_default": {}
      }
     }
    }
   },
   "outputs": [
    {
     "data": {
      "application/vnd.jupyter.widget-view+json": {
       "model_id": "72a574fa755f4f8490e2f648906eb56d",
       "version_major": 2,
       "version_minor": 0
      },
      "text/plain": [
       "Output()"
      ]
     },
     "metadata": {},
     "output_type": "display_data"
    }
   ],
   "source": [
    "# display plot\n",
    "display(output_widget)"
   ]
  },
  {
   "cell_type": "code",
   "execution_count": 10,
   "metadata": {},
   "outputs": [
    {
     "data": {
      "application/vnd.jupyter.widget-view+json": {
       "model_id": "5dff3c1f23bc4e86abd4c33c1052a0e1",
       "version_major": 2,
       "version_minor": 0
      },
      "text/plain": [
       "Output()"
      ]
     },
     "metadata": {},
     "output_type": "display_data"
    }
   ],
   "source": [
    "# Enable plot download\n",
    "download_button(True)\n",
    "display(button_output_widget)"
   ]
  },
  {
   "cell_type": "code",
   "execution_count": 11,
   "metadata": {},
   "outputs": [],
   "source": [
    "# Upload your own data"
   ]
  },
  {
   "cell_type": "code",
   "execution_count": 12,
   "metadata": {
    "extensions": {
     "jupyter_dashboards": {
      "version": 1,
      "views": {
       "grid_default": {
        "col": 0,
        "height": 2,
        "hidden": false,
        "row": 18,
        "width": 4
       },
       "report_default": {}
      }
     }
    },
    "scrolled": true
   },
   "outputs": [
    {
     "data": {
      "application/vnd.jupyter.widget-view+json": {
       "model_id": "cdd907fddc8e41aa990c76b7e948ad23",
       "version_major": 2,
       "version_minor": 0
      },
      "text/plain": [
       "VBox(children=(HBox(children=(HTML(value='<p data-toggle=\"popover\" title=\"Please Upload Your File\"></p>', layo…"
      ]
     },
     "metadata": {},
     "output_type": "display_data"
    },
    {
     "data": {
      "application/vnd.jupyter.widget-view+json": {
       "model_id": "f4c0e1b9fa584bde8886036718125e7f",
       "version_major": 2,
       "version_minor": 0
      },
      "text/plain": [
       "Button(button_style='info', description='Plot Data', layout=Layout(visibility='hidden'), style=ButtonStyle())"
      ]
     },
     "metadata": {},
     "output_type": "display_data"
    }
   ],
   "source": [
    "# Display file upload widget\n",
    "display(f)\n",
    "# informational:\n",
    "#dir(f)\n",
    "\n",
    "# Display plotting button for uploaded data\n",
    "display(uploaded_data)"
   ]
  }
 ],
 "metadata": {
  "extensions": {
   "jupyter_dashboards": {
    "activeView": "grid_default",
    "version": 1,
    "views": {
     "grid_default": {
      "cellMargin": 10,
      "defaultCellHeight": 20,
      "maxColumns": 12,
      "name": "grid",
      "type": "grid"
     },
     "report_default": {
      "name": "report",
      "type": "report"
     }
    }
   }
  },
  "kernelspec": {
   "display_name": "Python 3",
   "language": "python",
   "name": "python3"
  },
  "language_info": {
   "codemirror_mode": {
    "name": "ipython",
    "version": 3
   },
   "file_extension": ".py",
   "mimetype": "text/x-python",
   "name": "python",
   "nbconvert_exporter": "python",
   "pygments_lexer": "ipython3",
   "version": "3.7.3"
  },
  "tool": false
 },
 "nbformat": 4,
 "nbformat_minor": 2
}
